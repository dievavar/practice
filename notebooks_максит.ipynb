{
  "metadata": {
    "language_info": {
      "name": ""
    },
    "kernelspec": {
      "name": "python",
      "display_name": "Python (Pyodide)",
      "language": "python"
    }
  },
  "nbformat_minor": 4,
  "nbformat": 4,
  "cells": [
    {
      "cell_type": "code",
      "source": "# ИГРА МАКСИТ\nimport random\nBOARD = [[random.randint(1, 9), random.randint(1, 9), random.randint(1, 9)], [random.randint(1, 9), random.randint(1, 9), random.randint(1, 9)], [random.randint(1, 9), random.randint(1, 9), random.randint(1, 9)]]\nSCORE1 = 0\nSCORE2 = 0\n\n\ndef draw_board(board, score1, score2):\n    print('  0  1  2')\n    print('  _______')\n    num_row = 0\n    for row in board:\n        print(f'{num_row} |', end='')\n        for column in row:\n            print(f'{column}', end='|')\n        print('\\n  _______')\n        num_row+=1\n    print(f'Сумма очков первого игрока: {score1}')\n    print(f'Сумма очков второго игрока: {score2}')\n    print('--------------------------')\n\ndef check_digit_in_row(num_row):\n    global BOARD # для того чтобы можно было изменить вне функции\n    flag = 0\n    for i in BOARD[num_row]:\n        if i != ' ': # в строке есть непустой элемент\n            flag = 1\n    if flag == 1:\n        return True\n    else:\n        return False\n\n\ndef check_digit_in_column(num_column): #в столбце есть непустой элемент\n    global BOARD\n    flag = 0\n    for i in range(3):\n        if BOARD[i][num_column] != ' ':\n            flag = 1\n    if flag == 1:\n        return True\n    else:\n        return False\n\n\ndef player1_move(num_row):\n    global BOARD\n    global SCORE1\n    print('Ход первого игрока')\n    if check_digit_in_row(num_row):\n        while True:\n            column = int(input(f'В строке {num_row} выберете столбец: '))\n            if BOARD[num_row][column] != ' ':\n                SCORE1 += BOARD[num_row][column]\n                BOARD[num_row][column] = ' '\n                break\n            else:\n                print('В данной ячейке нет числа. Повторите попытку')\n        return column\n    else:\n        print('В строке нет цифр. Снова ходит второй игрок')\n        return None\n\n\ndef player2_move(num_column):\n    global BOARD\n    global SCORE2\n    print('Ход второго игрока')\n    if check_digit_in_column(num_column):\n        while True:\n            row = int(input(f'В столбце {num_column} выберете строку: '))\n            if BOARD[row][num_column] != ' ':\n                SCORE2 += BOARD[row][num_column]\n                BOARD[row][num_column] = ' '\n                break\n            else:\n                print('В данной ячейке нет числа. Повторите попытку')\n        return row\n    else:\n        print('В столбце нет цифр. Снова ходит первый игрок')\n        return None\n\n\n\nprint('Старт')\ndraw_board(BOARD, SCORE1, SCORE2)\nprint(\"Ход первого игрока\")\nrow = int(input('Введите номер строки: '))\ncolumn = int(input('Введите номер столбца: '))\n\nSCORE1 += BOARD[row][column]\nBOARD[row][column] = ' '\n\nlast_row = row\nlast_column = column\nwhile True:\n    last_row = player2_move(last_column)\n    draw_board(BOARD, SCORE1, SCORE2)\n    last_column = player1_move(last_row)\n    draw_board(BOARD, SCORE1, SCORE2)\n    if last_row is None and last_column is None:\n        print('Игра закончена')\n        break\n\n",
      "metadata": {},
      "execution_count": null,
      "outputs": []
    }
  ]
}