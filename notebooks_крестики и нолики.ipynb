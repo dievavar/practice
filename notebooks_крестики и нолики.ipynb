{
  "metadata": {
    "language_info": {
      "name": ""
    },
    "kernelspec": {
      "name": "python",
      "display_name": "Python (Pyodide)",
      "language": "python"
    }
  },
  "nbformat_minor": 4,
  "nbformat": 4,
  "cells": [
    {
      "cell_type": "code",
      "source": "tabel = [\n    [\"-\", \"-\", \"-\"],\n    [\"-\", \"-\", \"-\"],\n    [\"-\", \"-\", \"-\"],\n]\ndef print_board(board):\n    for row in board:\n        for cell in row:\n            print(cell, end=\" \")\n        print()\ndef check_win(board, player):\n    for row in board:\n        if row.count(player)==3: #проверка по горизонтали\n            return True\n    for i in range(3):\n        if board[0][i] == player and board[1][i] == player and board[2][i] == \nplayer: #проверка по вертикали\n            return True\n    if board[0][0] == player and board[1][1] == player and board[2][0] == \nplayer: #проверка по диагонали\n        return True\n    if board[0][2] == player and board[1][1] == player and board[2][2] == \nplayer:# проверка по диагонали\n        return True\ncurrent_player = \"X\" #игрок который сейчас ходит\nwhile True:\n    print_board(tabel)\n    print(\"Ход игрока\", current_player)\n    row = int(input(\"Введите номер строки: \")) - 1\n    col = int(input(\"Введите номер столбца: \")) - 1\n\n    if tabel[row][col] != \"-\":\n        print(\"Ячейка занята\")\n        continue\n    else:\n        tabel[row][col] = current_player\n\n    if check_win(tabel, current_player):\n        print_board(tabel)\n        print(f\"Игрок {current_player} выйграл!\")\n        break\n    if all([cell != \"-\" for row in tabel for cell in row]):\n        print(\"Ничья\")\n        print_board(tabel)\n        break\n\n    current_player = \"0\" if current_player == \"X\" else \"0\"\n",
      "metadata": {},
      "execution_count": null,
      "outputs": []
    }
  ]
}