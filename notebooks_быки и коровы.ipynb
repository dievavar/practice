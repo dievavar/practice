{
  "metadata": {
    "language_info": {
      "name": ""
    },
    "kernelspec": {
      "name": "python",
      "display_name": "Python (Pyodide)",
      "language": "python"
    }
  },
  "nbformat_minor": 4,
  "nbformat": 4,
  "cells": [
    {
      "cell_type": "code",
      "source": "def check_number(n): #проверяем вводимое число\n    while any([not x.isdigit() for x in n]) or len(n) != 4:\n        n = input(\"Введите число: \")\n    return n\nwhile True:\n    guessed = input(\"Введите четырехзначное число(1 игрок): \")\n    guessed = check_number(guessed)\n    cur = \"\"\n    count = 0\n    while guessed != cur:\n        count += 1\n        cows, bulls = 0, 0\n        cur = input(\"Введите четырехзначное число(2 игрок): \")\n        cur = check_number(cur)\n        for i in range(len(cur)):\n            if cur[i] == guessed[i]:\n                bulls += 1\n            elif cur[i] in guessed:\n                cows += 1\n        print(f\"Количество коров: {cows}.\", f\"Количество быков: {bulls}.\", sep=\"\\n\")\n    print(f\"Игра закончена! Количество понадобившихся попыток: {count}.\")\n    f = input(\"Хотите сыграть еще раз? (+/-): \")\n    while f not in \"+-\":\n        a = input(\"Введите + или -: \")\n    if a == \"-\":\n        break",
      "metadata": {},
      "execution_count": null,
      "outputs": []
    }
  ]
}